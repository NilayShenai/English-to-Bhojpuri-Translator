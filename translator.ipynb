{
  "cells": [
    {
      "cell_type": "code",
      "execution_count": null,
      "metadata": {
        "colab": {
          "base_uri": "https://localhost:8080/",
          "height": 611
        },
        "id": "OZ0qBI5TJ-4P",
        "outputId": "8e910b20-f2c7-4e41-9029-843ce144ac86"
      },
      "outputs": [
        {
          "name": "stdout",
          "output_type": "stream",
          "text": [
            "Colab notebook detected. To show errors in colab notebook, set debug=True in launch()\n",
            "* Running on public URL: https://546f4ed60466fa702f.gradio.live\n",
            "\n",
            "This share link expires in 1 week. For free permanent hosting and GPU upgrades, run `gradio deploy` from the terminal in the working directory to deploy to Hugging Face Spaces (https://huggingface.co/spaces)\n"
          ]
        },
        {
          "data": {
            "text/html": [
              "<div><iframe src=\"https://546f4ed60466fa702f.gradio.live\" width=\"100%\" height=\"500\" allow=\"autoplay; camera; microphone; clipboard-read; clipboard-write;\" frameborder=\"0\" allowfullscreen></iframe></div>"
            ],
            "text/plain": [
              "<IPython.core.display.HTML object>"
            ]
          },
          "metadata": {},
          "output_type": "display_data"
        },
        {
          "data": {
            "text/plain": []
          },
          "execution_count": 2,
          "metadata": {},
          "output_type": "execute_result"
        }
      ],
      "source": [
        "!pip install -q transformers sentencepiece gradio\n",
        "\n",
        "from transformers import MBartForConditionalGeneration, MBart50TokenizerFast\n",
        "import torch\n",
        "import gradio as gr\n",
        "\n",
        "model_name = \"nilayshenai/BART-English-to-Bhojpuri-Alpha1\"\n",
        "tokenizer = MBart50TokenizerFast.from_pretrained(model_name)\n",
        "model = MBartForConditionalGeneration.from_pretrained(model_name)\n",
        "device = torch.device(\"cuda\" if torch.cuda.is_available() else \"cpu\")\n",
        "model.to(device)\n",
        "\n",
        "def translate(text):\n",
        "    tokenizer.src_lang = \"en_XX\"\n",
        "    tgt_lang_code = tokenizer.lang_code_to_id[\"hi_IN\"]\n",
        "    inputs = tokenizer(text, return_tensors=\"pt\", padding=True, truncation=True, max_length=128)\n",
        "    inputs = {k: v.to(device) for k, v in inputs.items()}\n",
        "    outputs = model.generate(\n",
        "        **inputs,\n",
        "        forced_bos_token_id=tgt_lang_code,\n",
        "        max_length=128,\n",
        "        num_beams=5\n",
        "    )\n",
        "    return tokenizer.decode(outputs[0], skip_special_tokens=True)\n",
        "\n",
        "custom_css = \"\"\"\n",
        "body {\n",
        "    font-family: 'Inter', sans-serif;\n",
        "}\n",
        "h1, h2, h3, h4 {\n",
        "    font-family: 'Inter', sans-serif;\n",
        "    font-weight: 600;\n",
        "}\n",
        "textarea, input {\n",
        "    font-family: 'Inter', sans-serif;\n",
        "    font-size: 16px;\n",
        "}\n",
        "button {\n",
        "    font-family: 'Inter', sans-serif;\n",
        "    background-color: #1A73E8;\n",
        "    color: white;\n",
        "    border: none;\n",
        "    padding: 12px 20px;\n",
        "    border-radius: 8px;\n",
        "    font-size: 16px;\n",
        "    font-weight: 600;\n",
        "    cursor: pointer;\n",
        "}\n",
        "button:hover {\n",
        "    background-color: #1558b0;\n",
        "}\n",
        "\"\"\"\n",
        "with gr.Blocks(css=custom_css) as demo:\n",
        "    gr.Markdown(\n",
        "        \"\"\"\n",
        "        # Fine-tuned mBART for English-to-Bhojpuri Translation\n",
        "        #### A research-driven attempt utilizing mBART fine-tuning for English-to-Bhojpuri translation, with a focus on low-resource language adaptation. The model has been trained on a custom-curated dataset developed specifically for this task.\n",
        "        \"\"\"\n",
        "    )\n",
        "\n",
        "    with gr.Row():\n",
        "        with gr.Column():\n",
        "            input_text = gr.Textbox(\n",
        "                lines=6, \n",
        "                placeholder=\"Enter English text here...\",\n",
        "                label=\"English Text\"\n",
        "            )\n",
        "            translate_btn = gr.Button(\"Translate\")\n",
        "        with gr.Column():\n",
        "            output_text = gr.Textbox(\n",
        "                lines=6, \n",
        "                label=\"Bhojpuri Translation\", \n",
        "                interactive=False\n",
        "            )\n",
        "\n",
        "    translate_btn.click(fn=translate, inputs=input_text, outputs=output_text)\n",
        "\n",
        "    gr.Markdown(\"<hr>\")\n",
        "\n",
        "    gr.Markdown(\n",
        "        \"\"\"<center><font size=2 color=gray>Nilay D. Shenai • Model Version Alpha 2</font></center>\"\"\"\n",
        "    )\n",
        "\n",
        "demo.launch(share=True, show_api=False)\n",
        "\n"
      ]
    }
  ],
  "metadata": {
    "colab": {
      "provenance": []
    },
    "kernelspec": {
      "display_name": "Python 3",
      "name": "python3"
    },
    "language_info": {
      "name": "python"
    }
  },
  "nbformat": 4,
  "nbformat_minor": 0
}
